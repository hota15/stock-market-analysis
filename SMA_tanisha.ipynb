{
  "nbformat": 4,
  "nbformat_minor": 0,
  "metadata": {
    "colab": {
      "provenance": [],
      "authorship_tag": "ABX9TyNV/zHSu+cadeds7/w8Jnoq",
      "include_colab_link": true
    },
    "kernelspec": {
      "name": "python3",
      "display_name": "Python 3"
    },
    "language_info": {
      "name": "python"
    }
  },
  "cells": [
    {
      "cell_type": "markdown",
      "metadata": {
        "id": "view-in-github",
        "colab_type": "text"
      },
      "source": [
        "<a href=\"https://colab.research.google.com/github/hota15/Time-Series-stock-market-analysis/blob/main/SMA_tanisha.ipynb\" target=\"_parent\"><img src=\"https://colab.research.google.com/assets/colab-badge.svg\" alt=\"Open In Colab\"/></a>"
      ]
    },
    {
      "cell_type": "code",
      "execution_count": 3,
      "metadata": {
        "colab": {
          "base_uri": "https://localhost:8080/"
        },
        "id": "5VTL_6WXlEjj",
        "outputId": "dd94a6b3-3ef0-4c22-8724-f2ccc364392a"
      },
      "outputs": [
        {
          "output_type": "execute_result",
          "data": {
            "text/plain": [
              "Unnamed: 0         0\n",
              "Unnamed: 1         0\n",
              "BDL                0\n",
              "Unnamed: 3         0\n",
              "Unnamed: 4         0\n",
              "                ... \n",
              "Unnamed: 996     254\n",
              "Unnamed: 997     254\n",
              "Unnamed: 998     254\n",
              "Unnamed: 999     254\n",
              "Unnamed: 1000    254\n",
              "Length: 1001, dtype: int64"
            ]
          },
          "metadata": {},
          "execution_count": 3
        }
      ],
      "source": [
        "import numpy as np\n",
        "import pandas as pd\n",
        "df=pd.read_csv(\"TimeSeriesDataset.csv\")\n",
        "df.isnull().sum()"
      ]
    },
    {
      "cell_type": "code",
      "source": [
        "df.nunique()"
      ],
      "metadata": {
        "colab": {
          "base_uri": "https://localhost:8080/"
        },
        "id": "zK1vHpz3liVG",
        "outputId": "fb626378-f37b-4e57-e924-39ca88579d93"
      },
      "execution_count": 4,
      "outputs": [
        {
          "output_type": "execute_result",
          "data": {
            "text/plain": [
              "Unnamed: 0       254\n",
              "Unnamed: 1       228\n",
              "BDL              241\n",
              "Unnamed: 3       235\n",
              "Unnamed: 4       246\n",
              "                ... \n",
              "Unnamed: 996       0\n",
              "Unnamed: 997       0\n",
              "Unnamed: 998       0\n",
              "Unnamed: 999       0\n",
              "Unnamed: 1000      0\n",
              "Length: 1001, dtype: int64"
            ]
          },
          "metadata": {},
          "execution_count": 4
        }
      ]
    },
    {
      "cell_type": "code",
      "source": [
        "df.index"
      ],
      "metadata": {
        "colab": {
          "base_uri": "https://localhost:8080/"
        },
        "id": "2uKDmN7GloJm",
        "outputId": "b27402bf-6bec-46da-f06a-ac2d5a50e706"
      },
      "execution_count": 5,
      "outputs": [
        {
          "output_type": "execute_result",
          "data": {
            "text/plain": [
              "RangeIndex(start=0, stop=254, step=1)"
            ]
          },
          "metadata": {},
          "execution_count": 5
        }
      ]
    },
    {
      "cell_type": "code",
      "source": [
        "df.columns"
      ],
      "metadata": {
        "colab": {
          "base_uri": "https://localhost:8080/"
        },
        "id": "akOTtp0Vlwto",
        "outputId": "183d6f27-0ef5-4fa5-86ec-4ed7c7862341"
      },
      "execution_count": 6,
      "outputs": [
        {
          "output_type": "execute_result",
          "data": {
            "text/plain": [
              "Index(['Unnamed: 0', 'Unnamed: 1', 'BDL', 'Unnamed: 3', 'Unnamed: 4',\n",
              "       'Unnamed: 5', 'Unnamed: 6', 'Unnamed: 7', 'HAL', 'Unnamed: 9',\n",
              "       ...\n",
              "       'Unnamed: 991', 'Unnamed: 992', 'Unnamed: 993', 'Unnamed: 994',\n",
              "       'Unnamed: 995', 'Unnamed: 996', 'Unnamed: 997', 'Unnamed: 998',\n",
              "       'Unnamed: 999', 'Unnamed: 1000'],\n",
              "      dtype='object', length=1001)"
            ]
          },
          "metadata": {},
          "execution_count": 6
        }
      ]
    },
    {
      "cell_type": "code",
      "source": [],
      "metadata": {
        "id": "kmBDC4I1l1xy"
      },
      "execution_count": null,
      "outputs": []
    }
  ]
}