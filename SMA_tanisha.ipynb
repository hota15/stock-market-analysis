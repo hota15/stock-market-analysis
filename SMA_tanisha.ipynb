{
  "nbformat": 4,
  "nbformat_minor": 0,
  "metadata": {
    "colab": {
      "provenance": [],
      "authorship_tag": "ABX9TyNV/zHSu+cadeds7/w8Jnoq",
      "include_colab_link": true
    },
    "kernelspec": {
      "name": "python3",
      "display_name": "Python 3"
    },
    "language_info": {
      "name": "python"
    }
  },
  "cells": [
    {
      "cell_type": "markdown",
      "metadata": {
        "id": "view-in-github",
        "colab_type": "text"
      },
      "source": [
        "<a href=\"https://colab.research.google.com/github/hota15/Time-Series-stock-market-analysis/blob/Tanisha/SMA_tanisha.ipynb\" target=\"_parent\"><img src=\"https://colab.research.google.com/assets/colab-badge.svg\" alt=\"Open In Colab\"/></a>"
      ]
    },
    {
      "cell_type": "code",
      "execution_count": 9,
      "metadata": {
        "colab": {
          "base_uri": "https://localhost:8080/"
        },
        "id": "5VTL_6WXlEjj",
        "outputId": "152087c8-1145-4de5-c6a9-bd3fca25884a"
      },
      "outputs": [
        {
          "output_type": "execute_result",
          "data": {
            "text/plain": [
              "Dat+A1:G241e    4\n",
              "Open            4\n",
              "High            4\n",
              "Low             4\n",
              "Close           4\n",
              "Adj Close       4\n",
              "Volume          4\n",
              "Open.1          4\n",
              "High.1          4\n",
              "Low.1           4\n",
              "Close.1         4\n",
              "Adj Close.1     4\n",
              "Volume.1        4\n",
              "Open.2          4\n",
              "High.2          4\n",
              "Low.2           4\n",
              "Close.2         4\n",
              "Adj Close.2     4\n",
              "Volume.2        4\n",
              "dtype: int64"
            ]
          },
          "metadata": {},
          "execution_count": 9
        }
      ],
      "source": [
        "import numpy as np\n",
        "import pandas as pd\n",
        "df=pd.read_csv(\"TimeSeriesDataset.csv\")\n",
        "df.isnull().sum()"
      ]
    },
    {
      "cell_type": "code",
      "source": [
        "df.nunique()"
      ],
      "metadata": {
        "colab": {
          "base_uri": "https://localhost:8080/"
        },
        "id": "zK1vHpz3liVG",
        "outputId": "b807c139-0fff-4315-8aef-5b8de487e8b2"
      },
      "execution_count": 10,
      "outputs": [
        {
          "output_type": "execute_result",
          "data": {
            "text/plain": [
              "Dat+A1:G241e    253\n",
              "Open            227\n",
              "High            240\n",
              "Low             234\n",
              "Close           245\n",
              "Adj Close       249\n",
              "Volume          253\n",
              "Open.1          239\n",
              "High.1          247\n",
              "Low.1           242\n",
              "Close.1         250\n",
              "Adj Close.1     251\n",
              "Volume.1        252\n",
              "Open.2          235\n",
              "High.2          230\n",
              "Low.2           230\n",
              "Close.2         237\n",
              "Adj Close.2     242\n",
              "Volume.2        253\n",
              "dtype: int64"
            ]
          },
          "metadata": {},
          "execution_count": 10
        }
      ]
    },
    {
      "cell_type": "code",
      "source": [
        "df.index"
      ],
      "metadata": {
        "colab": {
          "base_uri": "https://localhost:8080/"
        },
        "id": "2uKDmN7GloJm",
        "outputId": "be7696aa-24d7-45d1-d558-42b6b0841a09"
      },
      "execution_count": 11,
      "outputs": [
        {
          "output_type": "execute_result",
          "data": {
            "text/plain": [
              "RangeIndex(start=0, stop=257, step=1)"
            ]
          },
          "metadata": {},
          "execution_count": 11
        }
      ]
    },
    {
      "cell_type": "code",
      "source": [
        "df.columns"
      ],
      "metadata": {
        "colab": {
          "base_uri": "https://localhost:8080/"
        },
        "id": "akOTtp0Vlwto",
        "outputId": "2f182e83-5f85-40f5-ac58-884bbe9e092c"
      },
      "execution_count": 12,
      "outputs": [
        {
          "output_type": "execute_result",
          "data": {
            "text/plain": [
              "Index(['Dat+A1:G241e', 'Open', 'High', 'Low', 'Close', 'Adj Close', 'Volume',\n",
              "       'Open.1', 'High.1', 'Low.1', 'Close.1', 'Adj Close.1', 'Volume.1',\n",
              "       'Open.2', 'High.2', 'Low.2', 'Close.2', 'Adj Close.2', 'Volume.2'],\n",
              "      dtype='object')"
            ]
          },
          "metadata": {},
          "execution_count": 12
        }
      ]
    },
    {
      "cell_type": "code",
      "source": [],
      "metadata": {
        "id": "kmBDC4I1l1xy"
      },
      "execution_count": null,
      "outputs": []
    }
  ]
}